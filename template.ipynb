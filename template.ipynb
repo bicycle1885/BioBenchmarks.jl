{
 "cells": [
  {
   "cell_type": "code",
   "execution_count": null,
   "metadata": {
    "collapsed": true
   },
   "outputs": [],
   "source": [
    "# pick revision names you want to compare (branch, tag, or commit hash)\n",
    "revs = [\n",
    "    \"master\",\n",
    "    \"super-performance-improvement\",\n",
    "    # and more ...\n",
    "]"
   ]
  },
  {
   "cell_type": "code",
   "execution_count": null,
   "metadata": {
    "collapsed": true
   },
   "outputs": [],
   "source": [
    "import BioBenchmarks"
   ]
  },
  {
   "cell_type": "code",
   "execution_count": null,
   "metadata": {
    "collapsed": true
   },
   "outputs": [],
   "source": [
    "bmfiles = []\n",
    "for rev in revs\n",
    "    push!(bmfiles, BioBenchmarks.run(rev))\n",
    "end"
   ]
  },
  {
   "cell_type": "code",
   "execution_count": null,
   "metadata": {
    "collapsed": true
   },
   "outputs": [],
   "source": [
    "bmfiles"
   ]
  },
  {
   "cell_type": "code",
   "execution_count": null,
   "metadata": {
    "collapsed": true
   },
   "outputs": [],
   "source": [
    "using DataFrames"
   ]
  },
  {
   "cell_type": "code",
   "execution_count": null,
   "metadata": {
    "collapsed": true
   },
   "outputs": [],
   "source": [
    "function revname(filename)\n",
    "    m = match(r\"^results-(.*)-(\\w{7}).tsv$\", filename)\n",
    "    return string(m.captures[1], \" (\", m.captures[2], \")\")\n",
    "end"
   ]
  },
  {
   "cell_type": "code",
   "execution_count": null,
   "metadata": {
    "collapsed": true
   },
   "outputs": [],
   "source": [
    "res = []\n",
    "for bmfile in bmfiles\n",
    "    t = readtable(bmfile)\n",
    "    t[:revision] = revname(bmfile)\n",
    "    push!(res, t)\n",
    "end\n",
    "res = vcat(res...)\n",
    "res[:elapsed]   = float(res[:elapsed]) / 1e9  # nsec -> sec\n",
    "res[:gc_time]   = float(res[:gc_time])\n",
    "res[:allocated] = float(res[:allocated]);"
   ]
  },
  {
   "cell_type": "code",
   "execution_count": null,
   "metadata": {
    "collapsed": true
   },
   "outputs": [],
   "source": [
    "using RCall"
   ]
  },
  {
   "cell_type": "code",
   "execution_count": null,
   "metadata": {
    "collapsed": false
   },
   "outputs": [],
   "source": [
    "R\"library(ggplot2)\""
   ]
  },
  {
   "cell_type": "code",
   "execution_count": null,
   "metadata": {
    "collapsed": false
   },
   "outputs": [],
   "source": [
    "R\"\"\"\n",
    "ggplot($res, aes(x=revision, y=elapsed, color=revision)) +\n",
    "  geom_boxplot() +\n",
    "  geom_point(position=position_jitterdodge()) +\n",
    "  facet_wrap(~name, scales=\"free\") + \n",
    "  theme(axis.text.x = element_blank()) +\n",
    "  expand_limits(y=0)\n",
    "\"\"\""
   ]
  },
  {
   "cell_type": "code",
   "execution_count": null,
   "metadata": {
    "collapsed": false
   },
   "outputs": [],
   "source": [
    "R\"\"\"\n",
    "ggplot($res, aes(x=revision, y=gc_time, color=revision)) +\n",
    "  geom_boxplot() +\n",
    "  geom_point(position=position_jitterdodge()) +\n",
    "  facet_wrap(~name, scales=\"free\") + \n",
    "  theme(axis.text.x = element_blank()) +\n",
    "  expand_limits(y=0)\n",
    "\"\"\""
   ]
  },
  {
   "cell_type": "code",
   "execution_count": null,
   "metadata": {
    "collapsed": false
   },
   "outputs": [],
   "source": [
    "R\"\"\"\n",
    "ggplot($res, aes(x=revision, y=allocated, color=revision)) +\n",
    "  geom_boxplot() +\n",
    "  geom_point(position=position_jitterdodge()) +\n",
    "  facet_wrap(~name, scales=\"free\") + \n",
    "  theme(axis.text.x = element_blank()) +\n",
    "  expand_limits(y=0)\n",
    "\"\"\""
   ]
  },
  {
   "cell_type": "code",
   "execution_count": null,
   "metadata": {
    "collapsed": true
   },
   "outputs": [],
   "source": [
    "for x in groupby(res, :revision)\n",
    "    println(\"--- \", x[:revision][1], \" ---\")\n",
    "    describe(x[[:elapsed, :gc_time, :allocated]])\n",
    "    println()\n",
    "end"
   ]
  },
  {
   "cell_type": "code",
   "execution_count": null,
   "metadata": {
    "collapsed": false
   },
   "outputs": [],
   "source": [
    "now()"
   ]
  },
  {
   "cell_type": "code",
   "execution_count": null,
   "metadata": {
    "collapsed": false
   },
   "outputs": [],
   "source": [
    "versioninfo()"
   ]
  },
  {
   "cell_type": "code",
   "execution_count": null,
   "metadata": {
    "collapsed": false,
    "scrolled": false
   },
   "outputs": [],
   "source": [
    "Pkg.status()"
   ]
  }
 ],
 "metadata": {
  "kernelspec": {
   "display_name": "Julia 0.4.5",
   "language": "julia",
   "name": "julia-0.4"
  },
  "language_info": {
   "file_extension": ".jl",
   "mimetype": "application/julia",
   "name": "julia",
   "version": "0.4.5"
  }
 },
 "nbformat": 4,
 "nbformat_minor": 0
}
