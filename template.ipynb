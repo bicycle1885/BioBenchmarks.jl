{
 "cells": [
  {
   "cell_type": "code",
   "execution_count": null,
   "metadata": {
    "collapsed": false
   },
   "outputs": [],
   "source": [
    "# pick two revision names you want to compare (branch, tag, or commit hash)\n",
    "revA = \"master\"\n",
    "revB = \"super-performance-improvement\""
   ]
  },
  {
   "cell_type": "code",
   "execution_count": null,
   "metadata": {
    "collapsed": true
   },
   "outputs": [],
   "source": [
    "import BioBenchmarks"
   ]
  },
  {
   "cell_type": "code",
   "execution_count": null,
   "metadata": {
    "collapsed": false
   },
   "outputs": [],
   "source": [
    "bmA = BioBenchmarks.run(revA)"
   ]
  },
  {
   "cell_type": "code",
   "execution_count": null,
   "metadata": {
    "collapsed": false
   },
   "outputs": [],
   "source": [
    "bmB = BioBenchmarks.run(revB)"
   ]
  },
  {
   "cell_type": "code",
   "execution_count": null,
   "metadata": {
    "collapsed": true
   },
   "outputs": [],
   "source": [
    "using DataFrames"
   ]
  },
  {
   "cell_type": "code",
   "execution_count": null,
   "metadata": {
    "collapsed": true
   },
   "outputs": [],
   "source": [
    "function revname(filename)\n",
    "    m = match(r\"^results-(.*)-(\\w{7}).tsv$\", filename)\n",
    "    return string(m.captures[1], \" (\", m.captures[2], \")\")\n",
    "end"
   ]
  },
  {
   "cell_type": "code",
   "execution_count": null,
   "metadata": {
    "collapsed": false
   },
   "outputs": [],
   "source": [
    "resA = readtable(bmA)\n",
    "resA[:revision] = revname(bmA)\n",
    "resB = readtable(bmB)\n",
    "resB[:revision] = revname(bmB)\n",
    "resAB = vcat(resA, resB)\n",
    "resAB[:elapsed] = float(resAB[:elapsed]) / 1e9  # nsec -> sec\n",
    "resAB[:gc_time] = float(resAB[:gc_time])\n",
    "resAB[:allocated] = float(resAB[:allocated]);"
   ]
  },
  {
   "cell_type": "code",
   "execution_count": null,
   "metadata": {
    "collapsed": true
   },
   "outputs": [],
   "source": [
    "using RCall"
   ]
  },
  {
   "cell_type": "code",
   "execution_count": null,
   "metadata": {
    "collapsed": false
   },
   "outputs": [],
   "source": [
    "R\"library(ggplot2)\""
   ]
  },
  {
   "cell_type": "code",
   "execution_count": null,
   "metadata": {
    "collapsed": false
   },
   "outputs": [],
   "source": [
    "R\"\"\"\n",
    "ggplot($resAB, aes(x=revision, y=elapsed, color=revision)) +\n",
    "  geom_boxplot() +\n",
    "  geom_point(position=position_jitterdodge()) +\n",
    "  facet_wrap(~name, scales=\"free\") + \n",
    "  theme(axis.text.x = element_blank()) +\n",
    "  expand_limits(y=0)\n",
    "\"\"\""
   ]
  },
  {
   "cell_type": "code",
   "execution_count": null,
   "metadata": {
    "collapsed": false
   },
   "outputs": [],
   "source": [
    "R\"\"\"\n",
    "ggplot($resAB, aes(x=revision, y=gc_time, color=revision)) +\n",
    "  geom_boxplot() +\n",
    "  geom_point(position=position_jitterdodge()) +\n",
    "  facet_wrap(~name, scales=\"free\") + \n",
    "  theme(axis.text.x = element_blank()) +\n",
    "  expand_limits(y=0)\n",
    "\"\"\""
   ]
  },
  {
   "cell_type": "code",
   "execution_count": null,
   "metadata": {
    "collapsed": false
   },
   "outputs": [],
   "source": [
    "R\"\"\"\n",
    "ggplot($resAB, aes(x=revision, y=allocated, color=revision)) +\n",
    "  geom_boxplot() +\n",
    "  geom_point(position=position_jitterdodge()) +\n",
    "  facet_wrap(~name, scales=\"free\") + \n",
    "  theme(axis.text.x = element_blank()) +\n",
    "  expand_limits(y=0)\n",
    "\"\"\""
   ]
  },
  {
   "cell_type": "code",
   "execution_count": null,
   "metadata": {
    "collapsed": false
   },
   "outputs": [],
   "source": [
    "describe(resA[:,[:elapsed, :gc_time, :allocated]])"
   ]
  },
  {
   "cell_type": "code",
   "execution_count": null,
   "metadata": {
    "collapsed": false
   },
   "outputs": [],
   "source": [
    "describe(resB[:,[:elapsed, :gc_time, :allocated]])"
   ]
  },
  {
   "cell_type": "code",
   "execution_count": null,
   "metadata": {
    "collapsed": false
   },
   "outputs": [],
   "source": [
    "now()"
   ]
  },
  {
   "cell_type": "code",
   "execution_count": null,
   "metadata": {
    "collapsed": false
   },
   "outputs": [],
   "source": [
    "versioninfo()"
   ]
  },
  {
   "cell_type": "code",
   "execution_count": null,
   "metadata": {
    "collapsed": false,
    "scrolled": false
   },
   "outputs": [],
   "source": [
    "Pkg.status()"
   ]
  }
 ],
 "metadata": {
  "kernelspec": {
   "display_name": "Julia 0.4.5",
   "language": "julia",
   "name": "julia-0.4"
  },
  "language_info": {
   "file_extension": ".jl",
   "mimetype": "application/julia",
   "name": "julia",
   "version": "0.4.5"
  }
 },
 "nbformat": 4,
 "nbformat_minor": 0
}
